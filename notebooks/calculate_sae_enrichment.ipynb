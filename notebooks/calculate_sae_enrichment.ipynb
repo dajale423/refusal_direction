{
 "cells": [
  {
   "cell_type": "code",
   "execution_count": 1,
   "metadata": {},
   "outputs": [
    {
     "name": "stderr",
     "output_type": "stream",
     "text": [
      "/n/data2/hms/dbmi/sunyaev/lab/dlee/.cache/pypoetry/virtualenvs/refusal-direction-f5Ymycjl-py3.12/lib/python3.12/site-packages/tqdm/auto.py:21: TqdmWarning: IProgress not found. Please update jupyter and ipywidgets. See https://ipywidgets.readthedocs.io/en/stable/user_install.html\n",
      "  from .autonotebook import tqdm as notebook_tqdm\n"
     ]
    }
   ],
   "source": [
    "from nnsight import LanguageModel\n",
    "\n",
    "import gc\n",
    "import itertools\n",
    "import math\n",
    "import os\n",
    "import random\n",
    "import sys\n",
    "from collections import Counter\n",
    "from copy import deepcopy\n",
    "from dataclasses import dataclass\n",
    "from functools import partial\n",
    "from pathlib import Path\n",
    "from typing import Any, Callable, Literal, TypeAlias\n",
    "\n",
    "import einops\n",
    "import numpy as np\n",
    "import pandas as pd\n",
    "import plotly.express as px\n",
    "import requests\n",
    "import torch as t\n",
    "from datasets import load_dataset\n",
    "from huggingface_hub import hf_hub_download\n",
    "from IPython.display import HTML, IFrame, clear_output, display\n",
    "from jaxtyping import Float, Int\n",
    "from rich import print as rprint\n",
    "from rich.table import Table\n",
    "from sae_lens import (\n",
    "    SAE,\n",
    "    ActivationsStore,\n",
    "    HookedSAETransformer,\n",
    "    LanguageModelSAERunnerConfig,\n",
    "    SAEConfig,\n",
    "    SAETrainingRunner,\n",
    "    upload_saes_to_huggingface,\n",
    ")\n",
    "from sae_lens.toolkit.pretrained_saes_directory import get_pretrained_saes_directory\n",
    "from sae_vis import SaeVisConfig, SaeVisData, SaeVisLayoutConfig\n",
    "from tabulate import tabulate\n",
    "from torch import Tensor, nn\n",
    "from torch.distributions.categorical import Categorical\n",
    "from torch.nn import functional as F\n",
    "from tqdm.auto import tqdm\n",
    "from transformer_lens import ActivationCache, HookedTransformer, utils\n",
    "from transformer_lens.hook_points import HookPoint\n",
    "\n",
    "device = \"cuda\" if t.cuda.is_available() else \"mps\" if t.backends.mps.is_available() else \"cpu\""
   ]
  },
  {
   "cell_type": "code",
   "execution_count": 2,
   "metadata": {},
   "outputs": [
    {
     "name": "stdout",
     "output_type": "stream",
     "text": [
      "Total GPU Memory: 45541.31 MB\n",
      "Allocated GPU Memory: 0.00 MB\n",
      "Cached GPU Memory: 0.00 MB\n"
     ]
    }
   ],
   "source": [
    "## check memory usage\n",
    "\n",
    "if t.cuda.is_available():\n",
    "    gpu_id = 0  # Set to your target GPU ID\n",
    "    total_memory = t.cuda.get_device_properties(gpu_id).total_memory\n",
    "    allocated_memory = t.cuda.memory_allocated(gpu_id)\n",
    "    cached_memory = t.cuda.memory_reserved(gpu_id)\n",
    "\n",
    "    print(f\"Total GPU Memory: {total_memory / 1024**2:.2f} MB\")\n",
    "    print(f\"Allocated GPU Memory: {allocated_memory / 1024**2:.2f} MB\")\n",
    "    print(f\"Cached GPU Memory: {cached_memory / 1024**2:.2f} MB\")\n",
    "elif t.backends.mps.is_available():\n",
    "    # MPS (Metal Performance Shaders) for Mac\n",
    "    print(\"MPS is available.\")\n",
    "    # Note: As of now, PyTorch doesn't provide direct memory management functions for MPS\n",
    "    print(\"Memory information is not available for MPS.\")\n",
    "else:\n",
    "    print(\"Neither CUDA nor MPS is available.\")"
   ]
  },
  {
   "cell_type": "code",
   "execution_count": 3,
   "metadata": {},
   "outputs": [],
   "source": [
    "# del gemma2\n",
    "# del gemma2_sae\n",
    "\n",
    "t.cuda.empty_cache()\n"
   ]
  },
  {
   "cell_type": "code",
   "execution_count": 58,
   "metadata": {},
   "outputs": [
    {
     "name": "stdout",
     "output_type": "stream",
     "text": [
      "31323\n"
     ]
    }
   ],
   "source": [
    "import json\n",
    "\n",
    "# Read from advbench.json file\n",
    "with open('../dataset/processed/advbench.json', 'r') as file:\n",
    "    advbench_data = json.load(file)\n",
    "\n",
    "len(advbench_data)\n",
    "\n",
    "# Read from advbench.json file\n",
    "with open('../dataset/processed/alpaca.json', 'r') as file:\n",
    "    alpaca_data = json.load(file)\n",
    "\n",
    "print(len(alpaca_data))"
   ]
  },
  {
   "cell_type": "code",
   "execution_count": 84,
   "metadata": {},
   "outputs": [],
   "source": [
    "def load_tensor(filename):\n",
    "    if device == \"mps\":\n",
    "        tensor = t.load(filename, map_location=\"cpu\")\n",
    "        tensor.to(device, dtype=t.float32)\n",
    "    else:\n",
    "        tensor = t.load(filename)\n",
    "    return tensor\n",
    "\n",
    "def get_second_min(x):\n",
    "    min_value = t.min(x)\n",
    "    mask = x != min_value\n",
    "    second_min_value = t.min(x[mask])\n",
    "\n",
    "    return second_min_value\n"
   ]
  },
  {
   "cell_type": "code",
   "execution_count": 96,
   "metadata": {},
   "outputs": [
    {
     "name": "stderr",
     "output_type": "stream",
     "text": [
      "/tmp/ipykernel_43073/2211867026.py:6: FutureWarning: You are using `torch.load` with `weights_only=False` (the current default value), which uses the default pickle module implicitly. It is possible to construct malicious pickle data which will execute arbitrary code during unpickling (See https://github.com/pytorch/pytorch/blob/main/SECURITY.md#untrusted-models for more details). In a future release, the default value for `weights_only` will be flipped to `True`. This limits the functions that could be executed during unpickling. Arbitrary objects will no longer be allowed to be loaded via this mode unless they are explicitly allowlisted by the user via `torch.serialization.add_safe_globals`. We recommend you start setting `weights_only=True` for any use case where you don't have full control of the loaded file. Please open an issue on GitHub for any issues related to this experimental feature.\n",
      "  tensor = t.load(filename)\n"
     ]
    }
   ],
   "source": [
    "layer = 5\n",
    "\n",
    "sae_name = \"gemma-scope-2b-pt-res-canonical\"\n",
    "sae_id = f\"layer_{layer}/width_16k/canonical\"\n",
    "\n",
    "sae_act_advbench = load_tensor(f'../data/sae_acts/{sae_name}/{sae_id}_advbench.pt')\n",
    "sae_act_alpaca = load_tensor(f'../data/sae_acts/{sae_name}/{sae_id}_alpaca_10000.pt')\n",
    "frac_active = load_tensor(f'../data/sae_acts/{sae_name}/{sae_id}/frac_active.pt').cpu()\n",
    "\n",
    "frac_active_advbench = (sae_act_advbench > 0).sum(dim=(0)) / sae_act_advbench.shape[0]\n",
    "frac_active_alpaca = (sae_act_alpaca > 0).sum(dim=(0)) / sae_act_alpaca.shape[0]\n",
    "\n",
    "frac_active_advbench = t.where(frac_active_advbench == 0, get_second_min(frac_active_advbench)/2, frac_active_advbench)\n",
    "frac_active_alpaca = t.where(frac_active_alpaca == 0, get_second_min(frac_active_alpaca)/2, frac_active_alpaca)\n",
    "\n",
    "odds_ratio = frac_active_advbench/frac_active\n",
    "odds_ratio_alpaca = frac_active_advbench/frac_active_alpaca"
   ]
  },
  {
   "cell_type": "code",
   "execution_count": 97,
   "metadata": {},
   "outputs": [
    {
     "data": {
      "text/plain": [
       "tensor([1.7000e-03, 1.2000e-03, 2.3500e-02,  ..., 5.0000e-05, 5.0000e-05,\n",
       "        1.0000e-04])"
      ]
     },
     "execution_count": 97,
     "metadata": {},
     "output_type": "execute_result"
    }
   ],
   "source": [
    "frac_active_alpaca"
   ]
  },
  {
   "cell_type": "code",
   "execution_count": 87,
   "metadata": {},
   "outputs": [
    {
     "data": {
      "text/plain": [
       "tensor([0.0040, 0.0010, 0.0340,  ..., 0.0010, 0.0010, 0.0010])"
      ]
     },
     "execution_count": 87,
     "metadata": {},
     "output_type": "execute_result"
    }
   ],
   "source": [
    "t.where(frac_active_alpaca == 0, frac_active.min(), frac_active_alpaca)"
   ]
  },
  {
   "cell_type": "markdown",
   "metadata": {},
   "source": [
    "## Let's look at top frac active for advbench"
   ]
  },
  {
   "cell_type": "code",
   "execution_count": 98,
   "metadata": {},
   "outputs": [],
   "source": [
    "or_alpaca_topk = t.topk(odds_ratio_alpaca, 50)"
   ]
  },
  {
   "cell_type": "code",
   "execution_count": 99,
   "metadata": {},
   "outputs": [
    {
     "data": {
      "text/plain": [
       "torch.return_types.topk(\n",
       "values=tensor([903.8462, 692.3077, 657.6923, 538.4615, 538.4615, 461.5385, 461.5385,\n",
       "        346.1539, 326.9231, 326.9231, 307.6923, 307.6923, 307.6923, 307.6923,\n",
       "        307.6923, 307.6923, 288.4615, 269.2308, 269.2308, 269.2308, 269.2308,\n",
       "        269.2308, 269.2308, 230.7692, 230.7692, 230.7692, 230.7692, 230.7692,\n",
       "        230.7692, 230.7692, 230.7692, 230.7692, 230.7692, 211.5385, 211.5385,\n",
       "        211.5385, 205.1282, 201.9231, 192.3077, 192.3077, 192.3077, 192.3077,\n",
       "        173.0769, 173.0769, 173.0769, 173.0769, 173.0769, 173.0769, 164.5299,\n",
       "        163.4615]),\n",
       "indices=tensor([ 4809, 13709, 15484,  1594,  2620,  2273,  4871,  5817,  4336, 12850,\n",
       "         8837,  5123, 14277,  2754,  2513, 15713,  4511, 15261,  6815,   773,\n",
       "        15271,  4760, 10170,  3082,  2930, 14954, 12668,  7089, 15511,  9746,\n",
       "        13920,  1225,  8399,  4178,   506,  7479, 10801, 10263, 12722,  5790,\n",
       "        14367,   747, 12594,  2928,  9370,  8975, 13443,  9141,  8901, 12054]))"
      ]
     },
     "execution_count": 99,
     "metadata": {},
     "output_type": "execute_result"
    }
   ],
   "source": [
    "or_alpaca_topk"
   ]
  },
  {
   "cell_type": "code",
   "execution_count": 100,
   "metadata": {},
   "outputs": [
    {
     "data": {
      "text/plain": [
       "tensor([0.0904, 0.0346, 0.3288, 0.0269, 0.0269, 0.0231, 0.0231, 0.0173, 0.0327,\n",
       "        0.0327, 0.0154, 0.0154, 0.0154, 0.0154, 0.0154, 0.0154, 0.0288, 0.0135,\n",
       "        0.0135, 0.0135, 0.0135, 0.0135, 0.0808, 0.0231, 0.0115, 0.0231, 0.0115,\n",
       "        0.0115, 0.0115, 0.0115, 0.0115, 0.0231, 0.0115, 0.0423, 0.0212, 0.0212,\n",
       "        0.0615, 0.0404, 0.0192, 0.0096, 0.0385, 0.0096, 0.0346, 0.0346, 0.0173,\n",
       "        0.0173, 0.0346, 0.0173, 0.1481, 0.0327])"
      ]
     },
     "execution_count": 100,
     "metadata": {},
     "output_type": "execute_result"
    }
   ],
   "source": [
    "frac_active_advbench[or_alpaca_topk.indices] "
   ]
  },
  {
   "cell_type": "code",
   "execution_count": 110,
   "metadata": {},
   "outputs": [
    {
     "data": {
      "text/plain": [
       "tensor([ 3069,  3182,  3205,  4776,  5181,  5502,  7114,  9988, 14030, 15484])"
      ]
     },
     "execution_count": 110,
     "metadata": {},
     "output_type": "execute_result"
    }
   ],
   "source": [
    "# Step 1: Create masks for each condition\n",
    "mask_frac = frac_active_advbench > 0.3\n",
    "mask_or_alpaca = odds_ratio_alpaca > 10\n",
    "\n",
    "# Step 2: Combine the masks using logical AND\n",
    "combined_mask = mask_frac & mask_or_alpaca\n",
    "\n",
    "# Step 3: Get the indices where both conditions are satisfied\n",
    "indices = t.nonzero(combined_mask, as_tuple=True)[0]\n",
    "\n",
    "indices"
   ]
  },
  {
   "cell_type": "code",
   "execution_count": 114,
   "metadata": {},
   "outputs": [
    {
     "data": {
      "text/plain": [
       "tensor([0.0452, 0.0096, 0.0485, 0.0559, 0.0078, 0.0063, 0.0509, 0.0085, 0.0132,\n",
       "        0.0048])"
      ]
     },
     "execution_count": 114,
     "metadata": {},
     "output_type": "execute_result"
    }
   ],
   "source": [
    "frac_active[indices]"
   ]
  },
  {
   "cell_type": "code",
   "execution_count": 111,
   "metadata": {},
   "outputs": [
    {
     "data": {
      "text/plain": [
       "tensor([0.3885, 0.4635, 0.6173, 0.3346, 0.4538, 0.4077, 0.5423, 0.3462, 0.3385,\n",
       "        0.3288])"
      ]
     },
     "execution_count": 111,
     "metadata": {},
     "output_type": "execute_result"
    }
   ],
   "source": [
    "frac_active_advbench[indices]"
   ]
  },
  {
   "cell_type": "code",
   "execution_count": 113,
   "metadata": {},
   "outputs": [
    {
     "data": {
      "text/plain": [
       "tensor([0.0309, 0.0258, 0.0289, 0.0157, 0.0037, 0.0043, 0.0389, 0.0151, 0.0130,\n",
       "        0.0005])"
      ]
     },
     "execution_count": 113,
     "metadata": {},
     "output_type": "execute_result"
    }
   ],
   "source": [
    "frac_active_alpaca[indices]"
   ]
  },
  {
   "cell_type": "code",
   "execution_count": 112,
   "metadata": {},
   "outputs": [
    {
     "data": {
      "text/plain": [
       "tensor([ 12.5716,  17.9636,  21.3601,  21.3131, 122.6611,  94.8122,  13.9411,\n",
       "         22.9241,  26.0355, 657.6923])"
      ]
     },
     "execution_count": 112,
     "metadata": {},
     "output_type": "execute_result"
    }
   ],
   "source": [
    "odds_ratio_alpaca[indices]"
   ]
  },
  {
   "cell_type": "markdown",
   "metadata": {},
   "source": [
    "Index 15484"
   ]
  },
  {
   "cell_type": "code",
   "execution_count": null,
   "metadata": {},
   "outputs": [],
   "source": []
  }
 ],
 "metadata": {
  "kernelspec": {
   "display_name": "Python 3 (ipykernel)",
   "language": "python",
   "name": "python3"
  },
  "language_info": {
   "codemirror_mode": {
    "name": "ipython",
    "version": 3
   },
   "file_extension": ".py",
   "mimetype": "text/x-python",
   "name": "python",
   "nbconvert_exporter": "python",
   "pygments_lexer": "ipython3",
   "version": "3.12.3"
  }
 },
 "nbformat": 4,
 "nbformat_minor": 4
}
